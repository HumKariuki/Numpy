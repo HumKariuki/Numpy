{
 "cells": [
  {
   "cell_type": "code",
   "execution_count": 9,
   "id": "d6ab04a2",
   "metadata": {},
   "outputs": [
    {
     "name": "stdout",
     "output_type": "stream",
     "text": [
      "[ 0 10 20 30 40 50 60 70 80 90]\n",
      "[ 0 10 20 30 40 50 60 70 80 90]\n",
      "[ 0 10 20 30 40 50 60 70 80 90]\n"
     ]
    }
   ],
   "source": [
    "## I/O with numpy\n",
    "## As part of programming requirements we need to store data permanently for futuer purposes\n",
    "## Files are a  very common permanent area to store out data\n",
    "## Types of files 1) Binary files- Used to store binary data like images video files audio files etc\n",
    "## 2) Text files-Used to store character data (.txt and .csv)\n",
    "## To store and retrieve of numpy array in binary format save() and load() are used it stores with extension .npy\n",
    "## Example below\n",
    "import numpy as np\n",
    "a= np.arange(0,100,10)\n",
    "print(a)\n",
    "np.save('kariuki',a)\n",
    "print(a)\n",
    "\n",
    "import numpy as np \n",
    "b= np.load('kariuki.npy')\n",
    "print(b)\n",
    " "
   ]
  },
  {
   "cell_type": "code",
   "execution_count": 16,
   "id": "b20fb848",
   "metadata": {},
   "outputs": [
    {
     "name": "stdout",
     "output_type": "stream",
     "text": [
      "[ 1.  2.  3.  4.  5.  6.  7.  8.  9. 10. 11. 12. 13. 14. 15. 16. 17. 18.\n",
      " 19.]\n",
      "<class 'numpy.ndarray'>\n"
     ]
    }
   ],
   "source": [
    "## storage abd retrieve of data in text file we use savetxt()and loadtxt() functions\n",
    "\n",
    "a=np.arange(1,20)\n",
    "a\n",
    "np.savetxt ('hum.txt',a)\n",
    "\n",
    "b=np.loadtxt('hum.txt')\n",
    "print(b)\n",
    "print(type(b))"
   ]
  },
  {
   "cell_type": "code",
   "execution_count": 21,
   "id": "1ab8fe1e",
   "metadata": {},
   "outputs": [
    {
     "data": {
      "text/plain": [
       "array([ 1.,  2.,  3.,  4.,  5.,  6.,  7.,  8.,  9., 10., 11., 12., 13.,\n",
       "       14., 15., 16., 17., 18., 19.])"
      ]
     },
     "execution_count": 21,
     "metadata": {},
     "output_type": "execute_result"
    }
   ],
   "source": [
    "## To store and retrieve data in csv file format is done wit savetxt() and load() with delimiter parameters\n",
    "b\n",
    "np.savetxt('jecinta.csv',b,delimiter=',')\n",
    "\n",
    "c=np.loadtxt('jecinta.csv')\n",
    "c"
   ]
  },
  {
   "cell_type": "code",
   "execution_count": 48,
   "id": "5e7308d0",
   "metadata": {},
   "outputs": [
    {
     "name": "stdout",
     "output_type": "stream",
     "text": [
      "<class 'numpy.ndarray'>\n"
     ]
    }
   ],
   "source": [
    "## Binary files\n",
    "## create a 1D array\n",
    "## Remember to load the file you have to use .npy extension\n",
    "d=np.array([11,12,13,14,15])\n",
    "d\n",
    "np.save('njeri',d)\n",
    "e=np.load('njeri.npy')\n",
    "type (e)\n",
    "## Remember always to save in a csv file you have to always pass the delimiter=,\n",
    "e=np.array([11,12,13,24,25,26])\n",
    "np.savetxt('wanjiku.csv',e,delimiter=',')\n",
    "f=np.loadtxt(\"wanjiku.csv\")\n",
    "print(type(f))\n"
   ]
  },
  {
   "cell_type": "code",
   "execution_count": null,
   "id": "b26f3ac2",
   "metadata": {},
   "outputs": [],
   "source": []
  },
  {
   "cell_type": "code",
   "execution_count": 70,
   "id": "3b2a88e1",
   "metadata": {},
   "outputs": [
    {
     "name": "stdout",
     "output_type": "stream",
     "text": [
      "<class 'str'>\n"
     ]
    },
    {
     "data": {
      "text/plain": [
       "array([[1., 2., 3.],\n",
       "       [4., 5., 6.]])"
      ]
     },
     "execution_count": 70,
     "metadata": {},
     "output_type": "execute_result"
    }
   ],
   "source": [
    "## sprinting line into columns\n",
    "##genfromtxt runs two main loops. \n",
    "## The first loop converts each line of the file in a sequence of strings. \n",
    "##The second loop converts each string to the appropriate data type\n",
    "from io import StringIO\n",
    "hum=u\"1, 2, 3\\n4, 5, 6\"\n",
    "print(type(hum))\n",
    "hum\n",
    "np.genfromtxt(StringIO(hum),delimiter=\",\")"
   ]
  },
  {
   "cell_type": "code",
   "execution_count": 62,
   "id": "6dbf1e1c",
   "metadata": {},
   "outputs": [
    {
     "data": {
      "text/plain": [
       "array([[1., 2.],\n",
       "       [3., 4.],\n",
       "       [5., 6.],\n",
       "       [7., 8.],\n",
       "       [9., 0.]])"
      ]
     },
     "execution_count": 62,
     "metadata": {},
     "output_type": "execute_result"
    }
   ],
   "source": [
    ">>> data = u\"\"\"#\n",
    "... # Skip me !\n",
    "... # Skip me too !\n",
    "... 1, 2\n",
    "... 3, 4\n",
    "... 5, 6 #This is the third line of the data\n",
    "... 7, 8\n",
    "... # And here comes the last line\n",
    "... 9, 0\n",
    "... \"\"\"\n",
    ">>> np.genfromtxt(StringIO(data), comments=\"#\", delimiter=\",\")"
   ]
  },
  {
   "cell_type": "code",
   "execution_count": null,
   "id": "366ad516",
   "metadata": {},
   "outputs": [],
   "source": [
    "# from io import StringIO\n",
    "data=u\"\\n\".join(str(i) for i in range(10))\n",
    "print(type(data))\n",
    "data\n",
    "## output will be like this'0\\n1\\n2\\n3\\n4\\n5\\n6\\n7\\n8\\n9'\n",
    "np.genfromtxt(StringIO(data),)/\n",
    "\\\n",
    "\n",
    "\n",
    "\n"
   ]
  },
  {
   "cell_type": "markdown",
   "id": "e37be0d1",
   "metadata": {},
   "source": [
    "# from io import StringIO\n",
    "data=u\"\\n\".join(str(i) for i in range(10))\n",
    "print(type(data))\n",
    "data\n",
    "## output will be like this'0\\n1\\n2\\n3\\n4\\n5\\n6\\n7\\n8\\n9'\n",
    "np.genfromtxt(StringIO(data),)/\n",
    "\\\n",
    "\n",
    "\n",
    "\n"
   ]
  },
  {
   "cell_type": "code",
   "execution_count": 1,
   "id": "0b66897a",
   "metadata": {},
   "outputs": [
    {
     "name": "stdout",
     "output_type": "stream",
     "text": [
      "hum\n"
     ]
    }
   ],
   "source": [
    "print(\"hum\")"
   ]
  },
  {
   "cell_type": "code",
   "execution_count": 22,
   "id": "4757cc9c",
   "metadata": {},
   "outputs": [
    {
     "name": "stdout",
     "output_type": "stream",
     "text": [
      "0\n",
      "1\n",
      "2\n",
      "3\n",
      "4\n",
      "5\n",
      "6\n",
      "7\n",
      "8\n",
      "9\n",
      "0\n",
      "1\n",
      "2\n",
      "3\n",
      "4\n",
      "5\n",
      "6\n",
      "7\n",
      "8\n",
      "9\n",
      "[0 1 2 3 4 5 6 7 8 9]\n"
     ]
    }
   ],
   "source": [
    "hum = u\"\\n\".join(str(i)for i in range(10))\n",
    "print(hum)\n",
    "\n",
    "kariuki=u\"\\n\".join(str(i) for i in range(10))\n",
    "print(kariuki)\n",
    "import numpy as np\n",
    "x=np.arange(10)\n",
    "print(x)"
   ]
  },
  {
   "cell_type": "code",
   "execution_count": 32,
   "id": "aa933f8d",
   "metadata": {},
   "outputs": [
    {
     "name": "stdout",
     "output_type": "stream",
     "text": [
      "[0 1 2 3 4 5 6 7 8 9]\n",
      "1\n"
     ]
    }
   ],
   "source": [
    "import numpy as np\n",
    "y=np.arange (10)\n",
    "print(y)\n",
    "print(y[1])\n"
   ]
  },
  {
   "cell_type": "code",
   "execution_count": null,
   "id": "6c638df3",
   "metadata": {},
   "outputs": [],
   "source": [
    "## Array Broadcasting eg x+y of two different arrays\n",
    "## Array broadcasting is a way of doing elementwice operations on arrays of different shapes\n",
    "x.shape==(2,3) ## 2 by 3 matrix\n",
    "\n",
    "\n",
    "y.shape==(2,3)## compatible since they are of the same shape with x\n",
    "y.shape==(2,1)## the twos match and one can match with anything thus they are compatible\n",
    "y.shape==(1,3)## one can match with two and 3 can match with 3\n",
    "y.shape==(3,)## This case you imagine that it looks like this one (1,3) thus one can match with 2 and 3 can match with 3\n",
    " ## Results in (2,3) shape\n",
    "    \n",
    "    \n",
    "y.shape==(3,2) ## 3 does not match with 2 and 2 does not match with3\n",
    "y.shape==(2,) ## It looks like this (1,2) thus not compatible because 1 match with 2 and buy 2 does not match with 3\n",
    "\n",
    "\n",
    "x.shape==(1,2,3,5,1,11,1,17)\n",
    "y.shape=        (1,7,1,1,17) #compatible\n",
    "## result shape is (1,2,3,5,7,11,1,17)\n",
    "\n",
    "\n"
   ]
  },
  {
   "cell_type": "code",
   "execution_count": 49,
   "id": "517eb7e8",
   "metadata": {},
   "outputs": [
    {
     "name": "stdout",
     "output_type": "stream",
     "text": [
      "[[0 1 2]\n",
      " [3 4 5]\n",
      " [6 7 8]]\n",
      "[[0 1 2]\n",
      " [3 4 5]]\n",
      "[  1  10 100]\n",
      "[[  1  11 102]\n",
      " [  4  14 105]]\n",
      "[[  1  11 102]\n",
      " [  4  14 105]\n",
      " [  7  17 108]]\n",
      "[[  1]\n",
      " [ 10]\n",
      " [100]]\n",
      "[  2  20 200]\n",
      "[[  0  11 102]\n",
      " [  4  14 105]\n",
      " [  7  17 108]]\n",
      "[[  0   0 102]\n",
      " [  4  14 105]\n",
      " [  7  17 108]]\n",
      "[[  0   0   0]\n",
      " [  4  14 105]\n",
      " [  7  17 108]]\n",
      "[[  0   0   0]\n",
      " [  7  14 105]\n",
      " [  7  17 108]]\n",
      "[[  0   0   0]\n",
      " [  7   7 105]\n",
      " [  7  17 108]]\n",
      "[[  0   0   0]\n",
      " [  7   7   7]\n",
      " [  7  17 108]]\n"
     ]
    },
    {
     "ename": "IndexError",
     "evalue": "index 2 is out of bounds for axis 0 with size 2",
     "output_type": "error",
     "traceback": [
      "\u001b[1;31m---------------------------------------------------------------------------\u001b[0m",
      "\u001b[1;31mIndexError\u001b[0m                                Traceback (most recent call last)",
      "\u001b[1;32m~\\AppData\\Local\\Temp/ipykernel_11172/1201535226.py\u001b[0m in \u001b[0;36m<module>\u001b[1;34m\u001b[0m\n\u001b[0;32m     18\u001b[0m \u001b[1;32mfor\u001b[0m \u001b[0mi\u001b[0m \u001b[1;32min\u001b[0m \u001b[0mrange\u001b[0m\u001b[1;33m(\u001b[0m\u001b[0mN0\u001b[0m\u001b[1;33m)\u001b[0m\u001b[1;33m:\u001b[0m\u001b[1;33m\u001b[0m\u001b[1;33m\u001b[0m\u001b[0m\n\u001b[0;32m     19\u001b[0m     \u001b[1;32mfor\u001b[0m \u001b[0mj\u001b[0m \u001b[1;32min\u001b[0m \u001b[0mrange\u001b[0m\u001b[1;33m(\u001b[0m\u001b[0mN1\u001b[0m\u001b[1;33m)\u001b[0m\u001b[1;33m:\u001b[0m\u001b[1;33m\u001b[0m\u001b[1;33m\u001b[0m\u001b[0m\n\u001b[1;32m---> 20\u001b[1;33m         \u001b[0mout\u001b[0m\u001b[1;33m[\u001b[0m\u001b[0mi\u001b[0m\u001b[1;33m,\u001b[0m\u001b[0mj\u001b[0m\u001b[1;33m]\u001b[0m\u001b[1;33m=\u001b[0m\u001b[0mx\u001b[0m\u001b[1;33m[\u001b[0m\u001b[0mi\u001b[0m\u001b[1;33m,\u001b[0m\u001b[0mi\u001b[0m\u001b[1;33m]\u001b[0m\u001b[1;33m+\u001b[0m\u001b[0my\u001b[0m\u001b[1;33m[\u001b[0m\u001b[0mi\u001b[0m\u001b[1;33m,\u001b[0m\u001b[1;36m0\u001b[0m\u001b[1;33m]\u001b[0m\u001b[1;33m\u001b[0m\u001b[1;33m\u001b[0m\u001b[0m\n\u001b[0m\u001b[0;32m     21\u001b[0m         \u001b[0mprint\u001b[0m\u001b[1;33m(\u001b[0m\u001b[0mout\u001b[0m\u001b[1;33m)\u001b[0m\u001b[1;33m\u001b[0m\u001b[1;33m\u001b[0m\u001b[0m\n",
      "\u001b[1;31mIndexError\u001b[0m: index 2 is out of bounds for axis 0 with size 2"
     ]
    }
   ],
   "source": [
    "x=np.array([[0,1,2],[3,4,5],[6,7,8]])\n",
    "print(x)\n",
    "y=np.array([[0,1,2],[3,4,5]])\n",
    "print(y)\n",
    "b=np.array([1,10,100])\n",
    "print(b)\n",
    "print(y+b)\n",
    "print(x+b)\n",
    "c=np.array([1,10,100]).reshape(3,1)\n",
    "print(c)\n",
    "##print(y+c)## This will results into an error since operator cannot broadcast (2,3) and (3,1)\n",
    "print(b+b)\n",
    "# x=(3,3)\n",
    "# c=(3,1)\n",
    "shape = (3,3)\n",
    "out=np.empty(shape,dtype=int)\n",
    "N0,N1=shape\n",
    "for i in range(N0):\n",
    "    for j in range(N1):\n",
    "        out[i,j]=x[i,i]+y[i,0]\n",
    "        print(out)"
   ]
  },
  {
   "cell_type": "code",
   "execution_count": null,
   "id": "1a26a0c5",
   "metadata": {},
   "outputs": [],
   "source": []
  }
 ],
 "metadata": {
  "kernelspec": {
   "display_name": "Python 3 (ipykernel)",
   "language": "python",
   "name": "python3"
  },
  "language_info": {
   "codemirror_mode": {
    "name": "ipython",
    "version": 3
   },
   "file_extension": ".py",
   "mimetype": "text/x-python",
   "name": "python",
   "nbconvert_exporter": "python",
   "pygments_lexer": "ipython3",
   "version": "3.9.7"
  }
 },
 "nbformat": 4,
 "nbformat_minor": 5
}
