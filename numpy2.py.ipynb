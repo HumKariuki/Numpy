{
 "cells": [
  {
   "cell_type": "code",
   "execution_count": 9,
   "id": "d6ab04a2",
   "metadata": {},
   "outputs": [
    {
     "name": "stdout",
     "output_type": "stream",
     "text": [
      "[ 0 10 20 30 40 50 60 70 80 90]\n",
      "[ 0 10 20 30 40 50 60 70 80 90]\n",
      "[ 0 10 20 30 40 50 60 70 80 90]\n"
     ]
    }
   ],
   "source": [
    "## I/O with numpy\n",
    "## As part of programming requirements we need to store data permanently for futuer purposes\n",
    "## Files are a  very common permanent area to store out data\n",
    "## Types of files 1) Binary files- Used to store binary data like images video files audio files etc\n",
    "## 2) Text files-Used to store character data (.txt and .csv)\n",
    "## To store and retrieve of numpy array in binary format save() and load() are used it stores with extension .npy\n",
    "## Example below\n",
    "import numpy as np\n",
    "a= np.arange(0,100,10)\n",
    "print(a)\n",
    "np.save('kariuki',a)\n",
    "print(a)\n",
    "\n",
    "import numpy as np \n",
    "b= np.load('kariuki.npy')\n",
    "print(b)\n",
    " "
   ]
  },
  {
   "cell_type": "code",
   "execution_count": 16,
   "id": "b20fb848",
   "metadata": {},
   "outputs": [
    {
     "name": "stdout",
     "output_type": "stream",
     "text": [
      "[ 1.  2.  3.  4.  5.  6.  7.  8.  9. 10. 11. 12. 13. 14. 15. 16. 17. 18.\n",
      " 19.]\n",
      "<class 'numpy.ndarray'>\n"
     ]
    }
   ],
   "source": [
    "## storage abd retrieve of data in text file we use savetxt()and loadtxt() functions\n",
    "\n",
    "a=np.arange(1,20)\n",
    "a\n",
    "np.savetxt ('hum.txt',a)\n",
    "\n",
    "b=np.loadtxt('hum.txt')\n",
    "print(b)\n",
    "print(type(b))"
   ]
  },
  {
   "cell_type": "code",
   "execution_count": 21,
   "id": "1ab8fe1e",
   "metadata": {},
   "outputs": [
    {
     "data": {
      "text/plain": [
       "array([ 1.,  2.,  3.,  4.,  5.,  6.,  7.,  8.,  9., 10., 11., 12., 13.,\n",
       "       14., 15., 16., 17., 18., 19.])"
      ]
     },
     "execution_count": 21,
     "metadata": {},
     "output_type": "execute_result"
    }
   ],
   "source": [
    "## To store and retrieve data in csv file format is done wit savetxt() and load() with delimiter parameters\n",
    "b\n",
    "np.savetxt('jecinta.csv',b,delimiter=',')\n",
    "\n",
    "c=np.loadtxt('jecinta.csv')\n",
    "c"
   ]
  },
  {
   "cell_type": "code",
   "execution_count": 48,
   "id": "5e7308d0",
   "metadata": {},
   "outputs": [
    {
     "name": "stdout",
     "output_type": "stream",
     "text": [
      "<class 'numpy.ndarray'>\n"
     ]
    }
   ],
   "source": [
    "## Binary files\n",
    "## create a 1D array\n",
    "## Remember to load the file you have to use .npy extension\n",
    "d=np.array([11,12,13,14,15])\n",
    "d\n",
    "np.save('njeri',d)\n",
    "e=np.load('njeri.npy')\n",
    "type (e)\n",
    "## Remember always to save in a csv file you have to always pass the delimiter=,\n",
    "e=np.array([11,12,13,24,25,26])\n",
    "np.savetxt('wanjiku.csv',e,delimiter=',')\n",
    "f=np.loadtxt(\"wanjiku.csv\")\n",
    "print(type(f))\n"
   ]
  },
  {
   "cell_type": "code",
   "execution_count": null,
   "id": "b26f3ac2",
   "metadata": {},
   "outputs": [],
   "source": []
  },
  {
   "cell_type": "code",
   "execution_count": 70,
   "id": "3b2a88e1",
   "metadata": {},
   "outputs": [
    {
     "name": "stdout",
     "output_type": "stream",
     "text": [
      "<class 'str'>\n"
     ]
    },
    {
     "data": {
      "text/plain": [
       "array([[1., 2., 3.],\n",
       "       [4., 5., 6.]])"
      ]
     },
     "execution_count": 70,
     "metadata": {},
     "output_type": "execute_result"
    }
   ],
   "source": [
    "## sprinting line into columns\n",
    "##genfromtxt runs two main loops. \n",
    "## The first loop converts each line of the file in a sequence of strings. \n",
    "##The second loop converts each string to the appropriate data type\n",
    "from io import StringIO\n",
    "hum=u\"1, 2, 3\\n4, 5, 6\"\n",
    "print(type(hum))\n",
    "hum\n",
    "np.genfromtxt(StringIO(hum),delimiter=\",\")"
   ]
  },
  {
   "cell_type": "code",
   "execution_count": 62,
   "id": "6dbf1e1c",
   "metadata": {},
   "outputs": [
    {
     "data": {
      "text/plain": [
       "array([[1., 2.],\n",
       "       [3., 4.],\n",
       "       [5., 6.],\n",
       "       [7., 8.],\n",
       "       [9., 0.]])"
      ]
     },
     "execution_count": 62,
     "metadata": {},
     "output_type": "execute_result"
    }
   ],
   "source": [
    ">>> data = u\"\"\"#\n",
    "... # Skip me !\n",
    "... # Skip me too !\n",
    "... 1, 2\n",
    "... 3, 4\n",
    "... 5, 6 #This is the third line of the data\n",
    "... 7, 8\n",
    "... # And here comes the last line\n",
    "... 9, 0\n",
    "... \"\"\"\n",
    ">>> np.genfromtxt(StringIO(data), comments=\"#\", delimiter=\",\")"
   ]
  },
  {
   "cell_type": "code",
   "execution_count": 78,
   "id": "90ca721c",
   "metadata": {},
   "outputs": [
    {
     "name": "stdout",
     "output_type": "stream",
     "text": [
      "<class 'str'>\n"
     ]
    },
    {
     "data": {
      "text/plain": [
       "array([0., 1., 2., 3., 4., 5., 6., 7., 8., 9.])"
      ]
     },
     "execution_count": 78,
     "metadata": {},
     "output_type": "execute_result"
    }
   ],
   "source": [
    "from io import StringIO\n",
    "data=u\"\\n\".join(str(i) for i in range(10))\n",
    "print(type(data))\n",
    "data\n",
    "## output will be like this'0\\n1\\n2\\n3\\n4\\n5\\n6\\n7\\n8\\n9'\n",
    "np.genfromtxt(StringIO(data),)\n",
    "\n",
    "\n",
    "\n"
   ]
  }
 ],
 "metadata": {
  "kernelspec": {
   "display_name": "Python 3 (ipykernel)",
   "language": "python",
   "name": "python3"
  },
  "language_info": {
   "codemirror_mode": {
    "name": "ipython",
    "version": 3
   },
   "file_extension": ".py",
   "mimetype": "text/x-python",
   "name": "python",
   "nbconvert_exporter": "python",
   "pygments_lexer": "ipython3",
   "version": "3.9.7"
  }
 },
 "nbformat": 4,
 "nbformat_minor": 5
}
