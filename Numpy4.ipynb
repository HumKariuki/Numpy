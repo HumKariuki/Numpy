{
 "cells": [
  {
   "cell_type": "code",
   "execution_count": 12,
   "id": "f33b58db",
   "metadata": {},
   "outputs": [
    {
     "name": "stdout",
     "output_type": "stream",
     "text": [
      "[[[1 2]\n",
      "  [5 6]]\n",
      "\n",
      " [[4 3]\n",
      "  [6 5]]]\n"
     ]
    },
    {
     "data": {
      "text/plain": [
       "1"
      ]
     },
     "execution_count": 12,
     "metadata": {},
     "output_type": "execute_result"
    }
   ],
   "source": [
    "## 2D array getting a specific element.You create a 1D array inside the other 1D array\n",
    "import numpy as np\n",
    "b=np.array ([[[1,2],[5,6]],[[4,3],[6,5]]])\n",
    "print(b)\n",
    "## Getting a specific element from the array\n",
    "b[0] ## This will print the first matrix\n",
    "b[0,0] ## This will print the first matrix the first row\n",
    "b[0,0,0] ## This will print the first matrix the first row and the first element\n"
   ]
  },
  {
   "cell_type": "code",
   "execution_count": null,
   "id": "8d0e96e2",
   "metadata": {},
   "outputs": [],
   "source": [
    "## The identity matrix\n",
    "b=np.identity(5)\n",
    "print(b)\n",
    "## linalg means linear algebra\n",
    "np.linalg.det(b)\n",
    "\n",
    "##Determinant\n",
    "## Trace\n",
    "## Singular vector decomposition\n",
    "## Eigen Values\n",
    "## Inverse \n",
    "## find them on (https://docs.scipy.org/doc/numpy/reference/routines.linalg.html)"
   ]
  },
  {
   "cell_type": "markdown",
   "id": "4b2e4c59",
   "metadata": {},
   "source": [
    "### Statistics\n"
   ]
  },
  {
   "cell_type": "markdown",
   "id": "ed1aed15",
   "metadata": {},
   "source": [
    "stat= np.array([[1,2,3],[4,5,6]])\n",
    "stat\n",
    "np.mean(stat)\n",
    "np.min(stat)## The minimum value\n",
    "np.max(stat) ## The maximum value\n",
    "np.min (stat,axis=1) ## The min of the first row and the min of the second row\n",
    "np.sum(stat)\n"
   ]
  },
  {
   "cell_type": "markdown",
   "id": "e3d98ee8",
   "metadata": {},
   "source": [
    "## Reorganizing Arrays"
   ]
  },
  {
   "cell_type": "markdown",
   "id": "e80b2409",
   "metadata": {},
   "source": [
    "before = np.array([[1,2,3,4],[4,5,6,8]])\n",
    "after = before.reshape((8,1))\n",
    "after\n"
   ]
  },
  {
   "cell_type": "markdown",
   "id": "73526120",
   "metadata": {},
   "source": [
    "## Vertically Stacking Vectors\n"
   ]
  },
  {
   "cell_type": "markdown",
   "id": "49c812e0",
   "metadata": {},
   "source": [
    "v1= np.array([1,2,3,4])\n",
    "v2=np.array([5,6,7,8])\n",
    "\n",
    "v3=np.vstack([v1,v2])\n",
    "v4=np.vstack([v1,v2,v3])\n",
    "print(v3)\n",
    "print(v4)\n",
    "v4.ndim"
   ]
  },
  {
   "cell_type": "markdown",
   "id": "c354c741",
   "metadata": {},
   "source": [
    "## Horizontal Stack"
   ]
  },
  {
   "cell_type": "code",
   "execution_count": 48,
   "id": "2b02e861",
   "metadata": {},
   "outputs": [
    {
     "data": {
      "text/plain": [
       "array([[0., 0., 0., 0., 1., 1.],\n",
       "       [0., 0., 0., 0., 1., 1.]])"
      ]
     },
     "execution_count": 48,
     "metadata": {},
     "output_type": "execute_result"
    }
   ],
   "source": [
    "a=np.zeros([2,4]) ## 2 by 4 matrix of zeros\n",
    "b=np.ones([2,2])\n",
    "b\n",
    "c=np.hstack([a,b])\n",
    "b\n",
    "c"
   ]
  },
  {
   "cell_type": "markdown",
   "id": "8bc47a97",
   "metadata": {},
   "source": [
    "## Miscellaneous\n",
    "\n",
    "### Load Data from file"
   ]
  },
  {
   "cell_type": "code",
   "execution_count": 65,
   "id": "67a0154c",
   "metadata": {},
   "outputs": [
    {
     "data": {
      "text/plain": [
       "array([  1.,  13.,  21.,  11., 196.,  75.,   4.,  56.,  78.,  99.,  34.,\n",
       "         6.,   7.,   8.,   9.,  23.,   5.,   6.,   7.,  97.,   2.,   2.,\n",
       "         4.,   4., 677.,   8.,   6.,  54.,  33.,   2.,   2., 345.,   6.,\n",
       "         6.,   7.,  34.,   5.,   4.,   3.,   2.,   1.,   3.,   4.,   5.,\n",
       "         6.,   7.,   8.,   9.,   0.,   5.,   3.,   2.,   2.,   4.,   5.,\n",
       "         6.,   7.,   8.,   8.,   9.,   9.,   9.])"
      ]
     },
     "execution_count": 65,
     "metadata": {},
     "output_type": "execute_result"
    }
   ],
   "source": [
    "hum=np.genfromtxt('load.txt',delimiter=',')\n",
    "hum\n",
    "hum2=hum.astype('int32')\n",
    "hum2\n",
    "np.mean(hum2)\n",
    "np.max(hum)\n",
    "np.min(hum)\n",
    "hum[0]\n",
    "hum[10]\n",
    "hum\n"
   ]
  },
  {
   "cell_type": "markdown",
   "id": "56f071cd",
   "metadata": {},
   "source": [
    "## Boolean masking and Advanced Indexing"
   ]
  },
  {
   "cell_type": "code",
   "execution_count": 79,
   "id": "4c5950b5",
   "metadata": {},
   "outputs": [
    {
     "data": {
      "text/plain": [
       "array([75., 56., 78., 99., 97., 54.])"
      ]
     },
     "execution_count": 79,
     "metadata": {},
     "output_type": "execute_result"
    }
   ],
   "source": [
    "hum>10\n",
    "hum[hum>10] ## It prints out the data where it is greater than 10 only\n",
    "## You can index with a list in Numpy\n",
    "kariuki=np.array([1,2,3,4,5,6,7,8,9])\n",
    "kariuki[[1,2,8]]\n",
    "np.any(hum2>50 )## The output will be true since there is a value >50 in the data hum\n",
    "np.any(hum2 > 50, axis=0)\n",
    "hum[((hum>50)&(hum<100))]"
   ]
  },
  {
   "cell_type": "code",
   "execution_count": 81,
   "id": "75dd36c6",
   "metadata": {},
   "outputs": [],
   "source": [
    "help?"
   ]
  },
  {
   "cell_type": "code",
   "execution_count": null,
   "id": "69035b92",
   "metadata": {},
   "outputs": [],
   "source": [
    "hum>10\n",
    "hum[hum>10] ## It prints out the data where it is greater than 10 only\n",
    "## You can index with a list in Numpy\n",
    "kariuki=np.array([1,2,3,4,5,6,7,8,9])\n",
    "kariuki[[1,2,8]]\n",
    "np.any(hum2>50 )## The output will be true since there is a value >50 in the data hum\n",
    "np.any(hum2 > 50, axis=0)\n",
    "hum[((hum>50)&(hum<100))]"
   ]
  }
 ],
 "metadata": {
  "kernelspec": {
   "display_name": "Python 3 (ipykernel)",
   "language": "python",
   "name": "python3"
  },
  "language_info": {
   "codemirror_mode": {
    "name": "ipython",
    "version": 3
   },
   "file_extension": ".py",
   "mimetype": "text/x-python",
   "name": "python",
   "nbconvert_exporter": "python",
   "pygments_lexer": "ipython3",
   "version": "3.9.12"
  }
 },
 "nbformat": 4,
 "nbformat_minor": 5
}
