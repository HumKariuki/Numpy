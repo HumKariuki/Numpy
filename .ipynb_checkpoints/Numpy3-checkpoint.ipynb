{
 "cells": [
  {
   "cell_type": "code",
   "execution_count": 7,
   "id": "2420f215",
   "metadata": {},
   "outputs": [],
   "source": [
    "import numpy as np\n",
    "np?"
   ]
  },
  {
   "cell_type": "code",
   "execution_count": 10,
   "id": "fe1bbcd0",
   "metadata": {},
   "outputs": [
    {
     "name": "stdout",
     "output_type": "stream",
     "text": [
      "100\n",
      "200\n",
      "300\n",
      "400\n",
      "500\n",
      "600\n",
      "700\n",
      "800\n",
      "900\n",
      "1000\n",
      "1100\n",
      "1200\n",
      "1300\n",
      "1400\n",
      "1500\n",
      "1600\n",
      "1700\n",
      "1800\n",
      "1900\n",
      "2000\n",
      "2100\n",
      "2200\n",
      "2300\n",
      "2400\n",
      "2500\n",
      "2600\n",
      "2700\n",
      "2800\n",
      "2900\n",
      "3000\n",
      "3100\n",
      "3200\n",
      "3300\n",
      "3400\n",
      "3500\n",
      "3600\n",
      "3700\n",
      "3800\n",
      "3900\n",
      "4000\n",
      "4100\n",
      "4200\n",
      "4300\n",
      "4400\n",
      "4500\n",
      "4600\n",
      "4700\n",
      "4800\n",
      "4900\n",
      "5000\n",
      "5100\n",
      "5200\n",
      "5300\n",
      "5400\n",
      "5500\n",
      "5600\n",
      "5700\n",
      "5800\n",
      "5900\n",
      "6000\n",
      "6100\n",
      "6200\n",
      "6300\n",
      "6400\n",
      "6500\n",
      "6600\n",
      "6700\n",
      "6800\n",
      "6900\n",
      "7000\n",
      "7100\n",
      "7200\n",
      "7300\n",
      "7400\n",
      "7500\n",
      "7600\n",
      "7700\n",
      "7800\n",
      "7900\n",
      "8000\n",
      "8100\n",
      "8200\n",
      "8300\n",
      "8400\n",
      "8500\n",
      "8600\n",
      "8700\n",
      "8800\n",
      "8900\n",
      "9000\n",
      "9100\n",
      "9200\n",
      "9300\n",
      "9400\n",
      "9500\n",
      "9600\n",
      "9700\n",
      "9800\n",
      "9900\n",
      "10000\n"
     ]
    }
   ],
   "source": [
    "results=0\n",
    "for i in range (100):\n",
    "    results += 100\n",
    "    print(results)"
   ]
  },
  {
   "cell_type": "code",
   "execution_count": 39,
   "id": "02acae0d",
   "metadata": {},
   "outputs": [
    {
     "name": "stdout",
     "output_type": "stream",
     "text": [
      "[[[8 1 5 9 8]\n",
      "  [9 4 3 0 3]\n",
      "  [5 0 2 3 8]\n",
      "  [1 3 3 3 7]]\n",
      "\n",
      " [[0 1 9 9 0]\n",
      "  [4 7 3 2 7]\n",
      "  [2 0 0 4 5]\n",
      "  [5 6 8 4 1]]\n",
      "\n",
      " [[4 9 8 1 1]\n",
      "  [7 9 9 3 6]\n",
      "  [7 2 0 3 5]\n",
      "  [9 4 4 6 4]]]\n",
      "x3 ndim:  3\n",
      "x3 shape:  (3, 4, 5)\n",
      "x3 size 60\n",
      "x3 datatype int32\n"
     ]
    }
   ],
   "source": [
    "## Numpy Array attributes one Dimensional,2D,3D and so on\n",
    "import numpy as np\n",
    "## We use the numpy random number generator\n",
    "np.random.seed (0)\n",
    "x1=np.random.randint(10,size=6) ##One dimensional Array\n",
    "x2=np.random.randint(10,size=(3,4)) #Two dimensional Array\n",
    "x3=np.random.randint(10,size=(3,4,5))# Three Dimensional array\n",
    "\n",
    "print(x3)\n",
    "\n",
    "print('x3 ndim: ', x3.ndim)\n",
    "print(\"x3 shape: \", x3.shape)\n",
    "print(\"x3 size\",x3.size)\n",
    "print(\"x3 datatype\", x3.dtype)\n",
    "print(\"itemsize: \", x3.itemsize,\"bytes\")## The itemsize is used to check the length in bytes of one array item\n",
    "print(\"nbytes: \",x3.nbytes,\"bytes\")## nbytes return the number of bytes required to store the underlying data in the given serirs object\n",
    "\n",
    "\n",
    "\n",
    "\n",
    "\n",
    "\n",
    "\n",
    "\n",
    "\n",
    "\n",
    "\n",
    "\n",
    "\n"
   ]
  },
  {
   "cell_type": "code",
   "execution_count": null,
   "id": "249a028e",
   "metadata": {},
   "outputs": [],
   "source": []
  },
  {
   "cell_type": "code",
   "execution_count": 84,
   "id": "6b751763",
   "metadata": {},
   "outputs": [
    {
     "name": "stdout",
     "output_type": "stream",
     "text": [
      "30\n",
      "[[0 1 2]\n",
      " [3 4 5]]\n",
      "[[0 1 2]\n",
      " [3 4 5]]\n",
      "[0 1 2 3 4 5]\n",
      "[[[2 4 0 0 9]\n",
      "  [3 8 3 0 4]]\n",
      "\n",
      " [[4 0 2 5 5]\n",
      "  [8 2 7 3 6]]\n",
      "\n",
      " [[1 0 2 2 5]\n",
      "  [5 1 2 8 7]]]\n",
      "[[[2 4 0 0 9]\n",
      "  [3 8 3 0 4]]\n",
      "\n",
      " [[4 0 2 5 5]\n",
      "  [8 2 7 3 6]]\n",
      "\n",
      " [[1 0 2 2 5]\n",
      "  [5 1 2 8 7]]]\n"
     ]
    }
   ],
   "source": [
    "## Inspecting and reshaping arrays\n",
    "a= np.random.randint(10,size=(3,2,5))\n",
    "a\n",
    "print(a.size)\n",
    "a.shape## Shape of the array\n",
    "a.ndim ## Dimension of the array\n",
    "a.dtype ## The datatype\n",
    "\n",
    "## 1D to 2D\n",
    "b=np.arange(6)\n",
    "b\n",
    "b.size ## 6\n",
    "b.ndim ## 1D array\n",
    "b.shape ## (6,)\n",
    "\n",
    "## To re-shape it to a 2d array of shape (2,3)\n",
    "## Whe reshaping consider the size and the shape you want it to become\n",
    "c=np.reshape(b,(2,3))\n",
    "print(c)\n",
    "\n",
    "## 2D to 3D\n",
    "d=np.reshape(c,c.shape+(1,))\n",
    "d\n",
    "d.ndim\n",
    "\n",
    "## 3D to 2D\n",
    "e=np.reshape(d,(2,3))\n",
    "print(e)\n",
    "e.ndim\n",
    "\n",
    "\n",
    "## 2D to 1D array\n",
    "g=np.reshape(e,(6))\n",
    "print(g)\n",
    "\n",
    "\n",
    "\n",
    "\n",
    "\n",
    "\n",
    "\n"
   ]
  },
  {
   "cell_type": "code",
   "execution_count": 95,
   "id": "39dcad14",
   "metadata": {},
   "outputs": [
    {
     "name": "stdout",
     "output_type": "stream",
     "text": [
      "[[[9 5 2 9 8]\n",
      "  [4 4 0 2 5]]\n",
      "\n",
      " [[7 7 1 3 2]\n",
      "  [0 3 2 2 2]]\n",
      "\n",
      " [[3 5 1 7 5]\n",
      "  [3 9 3 0 6]]]\n"
     ]
    },
    {
     "data": {
      "text/plain": [
       "array([9, 5, 2, 9, 8, 4, 4, 0, 2, 5, 7, 7, 1, 3, 2, 0, 3, 2, 2, 2, 3, 5,\n",
       "       1, 7, 5, 3, 9, 3, 0, 6])"
      ]
     },
     "execution_count": 95,
     "metadata": {},
     "output_type": "execute_result"
    }
   ],
   "source": [
    "## To flatten an array\n",
    "a=np.random.randint(10,size=(3,2,5))\n",
    "print(a)\n",
    "a.flatten()\n",
    "## The 3D array above becomes a 1D array\n",
    "\n",
    "b=np.random.randint(10,size=(2,5))\n",
    "print(b)\n",
    "b.ndim\n",
    "b.flatten()\n",
    "## The 2D array above becomes a 1D array "
   ]
  },
  {
   "cell_type": "code",
   "execution_count": 112,
   "id": "2894eef0",
   "metadata": {},
   "outputs": [
    {
     "name": "stdout",
     "output_type": "stream",
     "text": [
      "[[3 5 2 4]\n",
      " [7 6 8 8]\n",
      " [1 6 7 7]]\n"
     ]
    },
    {
     "data": {
      "text/plain": [
       "array([2, 4, 7, 6, 8, 8, 1, 6, 7, 7])"
      ]
     },
     "execution_count": 112,
     "metadata": {},
     "output_type": "execute_result"
    }
   ],
   "source": [
    "## To save a 3D array you must first reshape it to a 2D array\n",
    "x3\n",
    "x3.size\n",
    "x3.shape\n",
    "x3.ndim ## 3 Dimensional Array\n",
    "x3.flatten()\n",
    "\n",
    "## The flatten() changes the array directly to a 1D array\n",
    "\n",
    "\n",
    "## The flat[] Function : ALWAYS REMEMBER THE FLAT FUNCTION USES SQUARE BRACKETS\n",
    "x2\n",
    "## The flat brings the specific number in an array eg arrayname.flat(2) it will bring the 2nd array or number stsrtung from 0\n",
    "x2.flat[2]\n",
    "print(x2)\n",
    "x2.flat[2:] ## Output is the remianing values from no 2\n"
   ]
  },
  {
   "cell_type": "code",
   "execution_count": 119,
   "id": "650522de",
   "metadata": {},
   "outputs": [
    {
     "name": "stdout",
     "output_type": "stream",
     "text": [
      "[[[8 1 5 9 8]\n",
      "  [9 4 3 0 3]\n",
      "  [5 0 2 3 8]\n",
      "  [1 3 3 3 7]]\n",
      "\n",
      " [[0 1 9 9 0]\n",
      "  [4 7 3 2 7]\n",
      "  [2 0 0 4 5]\n",
      "  [5 6 8 4 1]]\n",
      "\n",
      " [[4 9 8 1 1]\n",
      "  [7 9 9 3 6]\n",
      "  [7 2 0 3 5]\n",
      "  [9 4 4 6 4]]]\n",
      "[8 1 5 9 8 9 4 3 0 3 5 0 2 3 8 1 3 3 3 7 0 1 9 9 0 4 7 3 2 7 2 0 0 4 5 5 6\n",
      " 8 4 1 4 9 8 1 1 7 9 9 3 6 7 2 0 3 5 9 4 4 6 4]\n"
     ]
    },
    {
     "data": {
      "text/plain": [
       "1"
      ]
     },
     "execution_count": 119,
     "metadata": {},
     "output_type": "execute_result"
    }
   ],
   "source": [
    "x3\n",
    "x3.flatten()\n",
    "print(x3)\n",
    "x4=x3.flatten()\n",
    "print(x4)\n",
    "x3.ndim\n",
    "x4.ndim"
   ]
  }
 ],
 "metadata": {
  "kernelspec": {
   "display_name": "Python 3 (ipykernel)",
   "language": "python",
   "name": "python3"
  },
  "language_info": {
   "codemirror_mode": {
    "name": "ipython",
    "version": 3
   },
   "file_extension": ".py",
   "mimetype": "text/x-python",
   "name": "python",
   "nbconvert_exporter": "python",
   "pygments_lexer": "ipython3",
   "version": "3.9.12"
  }
 },
 "nbformat": 4,
 "nbformat_minor": 5
}
